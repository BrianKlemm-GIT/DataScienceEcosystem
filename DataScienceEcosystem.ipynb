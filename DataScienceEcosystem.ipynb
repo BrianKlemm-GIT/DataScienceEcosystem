{
 "cells": [
  {
   "cell_type": "markdown",
   "source": [
    "# Data Science Tools and Ecosystem"
   ],
   "metadata": {
    "collapsed": false
   },
   "id": "d48ab063d8390bea"
  },
  {
   "cell_type": "markdown",
   "source": [
    "In this notebook, Data Science Tools and Ecosystem are summarized."
   ],
   "metadata": {
    "collapsed": false
   },
   "id": "aab43653ca612608"
  },
  {
   "cell_type": "markdown",
   "source": [
    "Some of the popular languages that Data Scientists use are:\n",
    "1. Python\n",
    "2. R\n",
    "3. SQL"
   ],
   "metadata": {
    "collapsed": false
   },
   "id": "fd8c89cb2be47e32"
  },
  {
   "cell_type": "markdown",
   "source": [
    "Some of the commonly used libraries used by Data Scientists include:\n",
    "1. numpy\n",
    "2. pandas\n",
    "3. scikit-learn\n",
    "4. Matplotlib\n",
    "5. Seaborn\n",
    "6. TensorFlow\n",
    "7. PyTorch"
   ],
   "metadata": {
    "collapsed": false
   },
   "id": "62ddbd01bab730fa"
  },
  {
   "cell_type": "markdown",
   "source": [
    "| Data Science Tools |\n",
    "|--------------------|\n",
    "| Jupyter Notebook   |\n",
    "| RStudio            |\n",
    "| Visual Studio Code |\n"
   ],
   "metadata": {
    "collapsed": false
   },
   "id": "50d9d28920433537"
  },
  {
   "cell_type": "markdown",
   "source": [
    "### Below are a few examples of evaluating arithmetic expressions in Python."
   ],
   "metadata": {
    "collapsed": false
   },
   "id": "2ed470ddede9810"
  },
  {
   "cell_type": "code",
   "execution_count": 1,
   "outputs": [
    {
     "data": {
      "text/plain": "17"
     },
     "execution_count": 1,
     "metadata": {},
     "output_type": "execute_result"
    }
   ],
   "source": [
    "# This is a simple arithmetic expression to multiply then add integers.\n",
    "result = (3*4)+5\n",
    "result"
   ],
   "metadata": {
    "collapsed": false,
    "ExecuteTime": {
     "end_time": "2023-12-10T00:00:46.033289500Z",
     "start_time": "2023-12-10T00:00:46.019804800Z"
    }
   },
   "id": "295db92309ac26b8"
  },
  {
   "cell_type": "code",
   "execution_count": 2,
   "outputs": [
    {
     "data": {
      "text/plain": "3.3333333333333335"
     },
     "execution_count": 2,
     "metadata": {},
     "output_type": "execute_result"
    }
   ],
   "source": [
    "# This will convert 200 minutes to hours by dividing by 60.\n",
    "hours = 200 / 60\n",
    "hours"
   ],
   "metadata": {
    "collapsed": false,
    "ExecuteTime": {
     "end_time": "2023-12-10T00:00:46.274793600Z",
     "start_time": "2023-12-10T00:00:46.270286100Z"
    }
   },
   "id": "679afa79418a3290"
  },
  {
   "cell_type": "markdown",
   "source": [
    "**Objectives:**\n",
    "\n",
    "- List popular languages for Data Science.\n",
    "- Describe commonly used libraries in Data Science.\n",
    "- Demonstrate how to create Markdown cells and format text.\n",
    "- Show how to create and execute code cells.\n",
    "- Provide examples of basic Python expressions and calculations."
   ],
   "metadata": {
    "collapsed": false
   },
   "id": "5f1f693cc00ac"
  },
  {
   "cell_type": "markdown",
   "source": [
    "## Author\n",
    "Brian Klemm"
   ],
   "metadata": {
    "collapsed": false
   },
   "id": "3c09059044d38fed"
  },
  {
   "cell_type": "code",
   "execution_count": null,
   "outputs": [],
   "source": [],
   "metadata": {
    "collapsed": false
   },
   "id": "1af96d4eba872c82"
  }
 ],
 "metadata": {
  "kernelspec": {
   "display_name": "Python 3",
   "language": "python",
   "name": "python3"
  },
  "language_info": {
   "codemirror_mode": {
    "name": "ipython",
    "version": 2
   },
   "file_extension": ".py",
   "mimetype": "text/x-python",
   "name": "python",
   "nbconvert_exporter": "python",
   "pygments_lexer": "ipython2",
   "version": "2.7.6"
  }
 },
 "nbformat": 4,
 "nbformat_minor": 5
}
